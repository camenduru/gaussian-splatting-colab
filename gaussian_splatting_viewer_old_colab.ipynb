{
  "cells": [
    {
      "cell_type": "markdown",
      "metadata": {
        "id": "view-in-github"
      },
      "source": [
        "[![Open In Colab](https://colab.research.google.com/assets/colab-badge.svg)](https://colab.research.google.com/github/camenduru/gaussian-splatting-colab/blob/main/gaussian_splatting_viewer_old_colab.ipynb)"
      ]
    },
    {
      "cell_type": "code",
      "execution_count": null,
      "metadata": {},
      "outputs": [],
      "source": [
        "# https://docs.nvidia.com/video-technologies/video-codec-sdk/12.0/ffmpeg-with-nvidia-gpu/index.html#compiling-for-linux\n",
        "\n",
        "%cd /content\n",
        "!git clone https://git.videolan.org/git/ffmpeg/nv-codec-headers\n",
        "%cd /content/nv-codec-headers\n",
        "!make install\n",
        "%cd /content\n",
        "!git clone https://git.ffmpeg.org/ffmpeg\n",
        "%cd /content/ffmpeg\n",
        "!apt install build-essential yasm cmake libtool libc6 libc6-dev unzip wget libnuma1 libnuma-dev\n",
        "!./configure --enable-nonfree --enable-cuda-nvcc --enable-libnpp --extra-cflags=-I/usr/local/cuda/include --extra-ldflags=-L/usr/local/cuda/lib64 --disable-static --enable-shared\n",
        "!make -j 8\n",
        "!make install\n",
        "!ldconfig /usr/local/lib\n",
        "!ffmpeg -version"
      ]
    },
    {
      "cell_type": "code",
      "execution_count": null,
      "metadata": {
        "id": "VjYy0F2gZIPR"
      },
      "outputs": [],
      "source": [
        "%cd /content\n",
        "!git clone -b dev https://github.com/camenduru/gaussian-viewer\n",
        "%cd /content/gaussian-viewer\n",
        "\n",
        "!pip install https://github.com/camenduru/gaussian-splatting-colab/releases/download/colab/PyNvCodec-0.1.0-cp310-cp310-linux_x86_64.whl\n",
        "!pip install https://github.com/camenduru/gaussian-splatting-colab/releases/download/colab/PytorchNvCodec-0.0.0-cp310-cp310-linux_x86_64.whl\n",
        "!pip install -q https://huggingface.co/camenduru/gaussian-splatting/resolve/main/diff_gaussian_rasterization-0.0.0-cp310-cp310-linux_x86_64.whl\n",
        "!pip install -q https://huggingface.co/camenduru/gaussian-splatting/resolve/main/simple_knn-0.0.0-cp310-cp310-linux_x86_64.whl\n",
        "\n",
        "!pip install -q aioice aiortc annotated-types av dnspython fastapi h11 httptools ifaddr \n",
        "!pip install -q nvidia-cublas-cu11 nvidia-cuda-cupti-cu11 nvidia-cuda-nvrtc-cu11 nvidia-cuda-runtime-cu11 \n",
        "!pip install -q nvidia-cudnn-cu11 nvidia-cufft-cu11 nvidia-curand-cu11 nvidia-cusolver-cu11 nvidia-cusparse-cu11\n",
        "!pip install -q nvidia-nccl-cu11 nvidia-nvtx-cu11 plyfile pydantic_core pyee pylibsrtp python-dotenv starlette \n",
        "!pip install -q twilio uvicorn uvloop watchfiles websockets\n",
        "\n",
        "!mkdir -p /content/gaussian-viewer/models/bicycle/point_cloud/iteration_30000\n",
        "!wget https://huggingface.co/camenduru/gaussian-splatting/resolve/main/train/point_cloud/iteration_30000/point_cloud.ply -O /content/gaussian-viewer/models/bicycle/point_cloud/iteration_30000/point_cloud.ply\n",
        "!wget https://huggingface.co/camenduru/gaussian-splatting/raw/main/train/cameras.json -O /content/gaussian-viewer/models/bicycle/cameras.json \n",
        "\n",
        "!git clone -b dev https://github.com/camenduru/gaussian-viewer-frontend /content/gaussian-viewer/gaussian-viewer-frontend"
      ]
    },
    {
      "cell_type": "code",
      "execution_count": null,
      "metadata": {},
      "outputs": [],
      "source": [
        "%cd /content\n",
        "!wget https://github.com/cloudflare/cloudflared/releases/latest/download/cloudflared-linux-amd64.deb -O /content/cloudflared-linux-amd64.deb\n",
        "!dpkg -i cloudflared-linux-amd64.deb\n",
        "\n",
        "import atexit, requests, subprocess, time, re, os\n",
        "from random import randint\n",
        "from threading import Timer\n",
        "from queue import Queue\n",
        "def cloudflared(port, metrics_port, output_queue):\n",
        "    atexit.register(lambda p: p.terminate(), subprocess.Popen(['cloudflared', 'tunnel', '--url', f'http://127.0.0.1:{port}', '--metrics', f'127.0.0.1:{metrics_port}'], stdout=subprocess.DEVNULL, stderr=subprocess.STDOUT))\n",
        "    attempts, tunnel_url = 0, None\n",
        "    while attempts < 10 and not tunnel_url:\n",
        "        attempts += 1\n",
        "        time.sleep(3)\n",
        "        try:\n",
        "            tunnel_url = re.search(\"(?P<url>https?:\\/\\/[^\\s]+.trycloudflare.com)\", requests.get(f'http://127.0.0.1:{metrics_port}/metrics').text).group(\"url\")\n",
        "        except:\n",
        "            pass\n",
        "    if not tunnel_url:\n",
        "        raise Exception(\"Can't connect to Cloudflare Edge\")\n",
        "    output_queue.put(tunnel_url)\n",
        "output_queue, metrics_port = Queue(), randint(8100, 9000)\n",
        "thread = Timer(2, cloudflared, args=(8000, metrics_port, output_queue))\n",
        "thread.start()\n",
        "thread.join()\n",
        "tunnel_url = output_queue.get()\n",
        "os.environ['webui_url'] = tunnel_url\n",
        "print(tunnel_url)"
      ]
    },
    {
      "cell_type": "code",
      "execution_count": null,
      "metadata": {},
      "outputs": [],
      "source": [
        "%cd /content/gaussian-viewer\n",
        "!uvicorn main:app"
      ]
    }
  ],
  "metadata": {
    "accelerator": "GPU",
    "colab": {
      "gpuType": "T4",
      "provenance": []
    },
    "kernelspec": {
      "display_name": "Python 3",
      "name": "python3"
    },
    "language_info": {
      "name": "python"
    }
  },
  "nbformat": 4,
  "nbformat_minor": 0
}
