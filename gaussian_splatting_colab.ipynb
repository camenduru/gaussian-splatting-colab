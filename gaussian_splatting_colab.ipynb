{
  "cells": [
    {
      "cell_type": "markdown",
      "metadata": {
        "id": "view-in-github"
      },
      "source": [
        "[![Open In Colab](https://colab.research.google.com/assets/colab-badge.svg)](https://colab.research.google.com/github/camenduru/gaussian-splatting-colab/blob/main/gaussian_splatting_colab.ipynb)"
      ]
    },
    {
      "cell_type": "code",
      "execution_count": null,
      "metadata": {
        "id": "VjYy0F2gZIPR"
      },
      "outputs": [],
      "source": [
        "%cd /content\n",
        "!git clone --recursive https://github.com/camenduru/gaussian-splatting\n",
        "!pip install -q plyfile\n",
        "\n",
        "%cd /content/gaussian-splatting\n",
        "!pip install -q https://huggingface.co/camenduru/gaussian-splatting/resolve/main/diff_gaussian_rasterization-0.0.0-cp310-cp310-linux_x86_64.whl\n",
        "!pip install -q https://huggingface.co/camenduru/gaussian-splatting/resolve/main/simple_knn-0.0.0-cp310-cp310-linux_x86_64.whl\n",
        "\n",
        "!wget https://huggingface.co/camenduru/gaussian-splatting/resolve/main/tandt_db.zip\n",
        "!unzip tandt_db.zip\n",
        "\n",
        "!python train.py -s /content/gaussian-splatting/tandt/train\n",
        "\n",
        "# !wget https://huggingface.co/camenduru/gaussian-splatting/resolve/main/GaussianViewTest.zip\n",
        "# !unzip GaussianViewTest.zip\n",
        "# !python render.py -m /content/gaussian-splatting/GaussianViewTest/model\n",
        "# !ffmpeg -framerate 30 -i /content/gaussian-splatting/GaussianViewTest/model/train/ours_30000/renders/%05d.png -vf \"pad=ceil(iw/2)*2:ceil(ih/2)*2\" -c:v libx264 -r 30 -pix_fmt yuv420p /content/output.mp4"
      ]
    }
  ],
  "metadata": {
    "accelerator": "GPU",
    "colab": {
      "gpuType": "T4",
      "provenance": []
    },
    "kernelspec": {
      "display_name": "Python 3",
      "name": "python3"
    },
    "language_info": {
      "name": "python"
    }
  },
  "nbformat": 4,
  "nbformat_minor": 0
}
